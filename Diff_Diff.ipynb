{
 "cells": [
  {
   "cell_type": "code",
   "execution_count": 1,
   "metadata": {
    "ExecuteTime": {
     "end_time": "2022-10-10T17:08:50.275196Z",
     "start_time": "2022-10-10T17:08:50.247702Z"
    }
   },
   "outputs": [
    {
     "data": {
      "text/html": [
       "<style> div#notebook-container { width: 80%; }  </style> "
      ],
      "text/plain": [
       "<IPython.core.display.HTML object>"
      ]
     },
     "metadata": {},
     "output_type": "display_data"
    }
   ],
   "source": [
    "# Increase discplay size of jupyter notebook cells\n",
    "from IPython.display import display, HTML\n",
    "display(HTML(\"<style> div#notebook-container { width: 80%; }  </style> \"))"
   ]
  },
  {
   "cell_type": "code",
   "execution_count": 2,
   "metadata": {
    "ExecuteTime": {
     "end_time": "2022-10-10T17:08:52.970253Z",
     "start_time": "2022-10-10T17:08:51.162353Z"
    }
   },
   "outputs": [],
   "source": [
    "import pandas as pd\n",
    "import numpy as np\n",
    "import statsmodels.api as sm"
   ]
  },
  {
   "cell_type": "code",
   "execution_count": 3,
   "metadata": {
    "ExecuteTime": {
     "end_time": "2022-10-10T17:08:54.547548Z",
     "start_time": "2022-10-10T17:08:53.796431Z"
    }
   },
   "outputs": [],
   "source": [
    "# Download external data\n",
    "\n",
    "df = pd.read_csv('https://raw.githubusercontent.com/dimitris1ps/data/master/etic_refined.csv')"
   ]
  },
  {
   "cell_type": "code",
   "execution_count": 4,
   "metadata": {
    "ExecuteTime": {
     "end_time": "2022-10-10T17:08:58.747928Z",
     "start_time": "2022-10-10T17:08:58.728920Z"
    }
   },
   "outputs": [],
   "source": [
    "# Work is our L0 metric\n",
    "df = df[['Work', 'Post_Period', 'Treatment_Group', 'Nonwhite', 'Finc', 'Earn', 'Age', 'Ed', 'Unearn', 'Urate', 'Year']]"
   ]
  },
  {
   "cell_type": "code",
   "execution_count": 5,
   "metadata": {
    "ExecuteTime": {
     "end_time": "2022-10-10T17:09:00.062971Z",
     "start_time": "2022-10-10T17:09:00.026153Z"
    }
   },
   "outputs": [
    {
     "data": {
      "text/html": [
       "<div><div id=99bcd62a-0665-46de-9686-0225b43489a5 style=\"display:none; background-color:#9D6CFF; color:white; width:200px; height:30px; padding-left:5px; border-radius:4px; flex-direction:row; justify-content:space-around; align-items:center;\" onmouseover=\"this.style.backgroundColor='#BA9BF8'\" onmouseout=\"this.style.backgroundColor='#9D6CFF'\" onclick=\"window.commands?.execute('create-mitosheet-from-dataframe-output');\">See Full Dataframe in Mito</div> <script> if (window.commands?.hasCommand('create-mitosheet-from-dataframe-output')) document.getElementById('99bcd62a-0665-46de-9686-0225b43489a5').style.display = 'flex' </script> <table border=\"1\" class=\"dataframe\">\n",
       "  <thead>\n",
       "    <tr style=\"text-align: right;\">\n",
       "      <th></th>\n",
       "      <th>Work</th>\n",
       "      <th>Post_Period</th>\n",
       "      <th>Treatment_Group</th>\n",
       "      <th>Nonwhite</th>\n",
       "      <th>Finc</th>\n",
       "      <th>Earn</th>\n",
       "      <th>Age</th>\n",
       "      <th>Ed</th>\n",
       "      <th>Unearn</th>\n",
       "      <th>Urate</th>\n",
       "      <th>Year</th>\n",
       "    </tr>\n",
       "  </thead>\n",
       "  <tbody>\n",
       "    <tr>\n",
       "      <th>11811</th>\n",
       "      <td>0</td>\n",
       "      <td>1</td>\n",
       "      <td>1</td>\n",
       "      <td>0</td>\n",
       "      <td>10605.889100</td>\n",
       "      <td>0.000000</td>\n",
       "      <td>21</td>\n",
       "      <td>7</td>\n",
       "      <td>10.605889</td>\n",
       "      <td>4.6</td>\n",
       "      <td>1996</td>\n",
       "    </tr>\n",
       "    <tr>\n",
       "      <th>4537</th>\n",
       "      <td>1</td>\n",
       "      <td>0</td>\n",
       "      <td>1</td>\n",
       "      <td>1</td>\n",
       "      <td>5385.844619</td>\n",
       "      <td>2859.942979</td>\n",
       "      <td>28</td>\n",
       "      <td>9</td>\n",
       "      <td>2.525902</td>\n",
       "      <td>7.7</td>\n",
       "      <td>1992</td>\n",
       "    </tr>\n",
       "    <tr>\n",
       "      <th>5334</th>\n",
       "      <td>0</td>\n",
       "      <td>0</td>\n",
       "      <td>1</td>\n",
       "      <td>0</td>\n",
       "      <td>5944.608997</td>\n",
       "      <td>0.000000</td>\n",
       "      <td>23</td>\n",
       "      <td>7</td>\n",
       "      <td>5.944609</td>\n",
       "      <td>6.9</td>\n",
       "      <td>1993</td>\n",
       "    </tr>\n",
       "    <tr>\n",
       "      <th>2144</th>\n",
       "      <td>1</td>\n",
       "      <td>0</td>\n",
       "      <td>0</td>\n",
       "      <td>1</td>\n",
       "      <td>43778.083700</td>\n",
       "      <td>43601.321590</td>\n",
       "      <td>54</td>\n",
       "      <td>10</td>\n",
       "      <td>0.176762</td>\n",
       "      <td>6.7</td>\n",
       "      <td>1991</td>\n",
       "    </tr>\n",
       "    <tr>\n",
       "      <th>7956</th>\n",
       "      <td>0</td>\n",
       "      <td>1</td>\n",
       "      <td>0</td>\n",
       "      <td>1</td>\n",
       "      <td>11917.287450</td>\n",
       "      <td>0.000000</td>\n",
       "      <td>42</td>\n",
       "      <td>11</td>\n",
       "      <td>11.917287</td>\n",
       "      <td>6.8</td>\n",
       "      <td>1994</td>\n",
       "    </tr>\n",
       "  </tbody>\n",
       "</table></div>"
      ],
      "text/plain": [
       "       Work  Post_Period  Treatment_Group  Nonwhite          Finc  \\\n",
       "11811     0            1                1         0  10605.889100   \n",
       "4537      1            0                1         1   5385.844619   \n",
       "5334      0            0                1         0   5944.608997   \n",
       "2144      1            0                0         1  43778.083700   \n",
       "7956      0            1                0         1  11917.287450   \n",
       "\n",
       "               Earn  Age  Ed     Unearn  Urate  Year  \n",
       "11811      0.000000   21   7  10.605889    4.6  1996  \n",
       "4537    2859.942979   28   9   2.525902    7.7  1992  \n",
       "5334       0.000000   23   7   5.944609    6.9  1993  \n",
       "2144   43601.321590   54  10   0.176762    6.7  1991  \n",
       "7956       0.000000   42  11  11.917287    6.8  1994  "
      ]
     },
     "execution_count": 5,
     "metadata": {},
     "output_type": "execute_result"
    }
   ],
   "source": [
    "df.sample(5)"
   ]
  },
  {
   "cell_type": "markdown",
   "metadata": {},
   "source": [
    "<b>`Work`</b> is the metric we will explore for a significant difference after the intervention which happend in `1994`"
   ]
  },
  {
   "cell_type": "markdown",
   "metadata": {},
   "source": [
    "Differences between `Test` and `Control` group might be also attributed to difference in the other (confounding) variables such are Unearn, Age, Earn etc."
   ]
  },
  {
   "cell_type": "markdown",
   "metadata": {},
   "source": [
    "### Explore"
   ]
  },
  {
   "cell_type": "code",
   "execution_count": 6,
   "metadata": {
    "ExecuteTime": {
     "end_time": "2022-10-10T17:09:06.815987Z",
     "start_time": "2022-10-10T17:09:05.415902Z"
    }
   },
   "outputs": [
    {
     "data": {
      "image/png": "[encoded data removed]",
      "text/plain": [
       "<Figure size 864x432 with 1 Axes>"
      ]
     },
     "metadata": {
      "needs_background": "light"
     },
     "output_type": "display_data"
    }
   ],
   "source": [
    "tmp = df.groupby(['Year', 'Treatment_Group'])[['Work']].mean().unstack()\n",
    "tmp.columns = ['Control', 'Treatment']\n",
    "\n",
    "ax = tmp.plot(figsize=(12, 6), style='o-', lw=3)\n",
    "ax.axvline(1994, color='k', linestyle='--', lw=4, label='Intervention')\n",
    "ax.set_ylabel(\"% of Metric (% of single family females working)\");"
   ]
  },
  {
   "cell_type": "markdown",
   "metadata": {},
   "source": [
    "### Compute effect"
   ]
  },
  {
   "cell_type": "markdown",
   "metadata": {},
   "source": [
    "The formula is:<b> $\\langle  \\text{Difference in Post Period} - \\text{Difference in Pre Period}\\rangle $ </b> i.e <b>Diff in Diff</b><br>of the average metric value"
   ]
  },
  {
   "cell_type": "code",
   "execution_count": 7,
   "metadata": {
    "ExecuteTime": {
     "end_time": "2022-10-10T17:09:08.273820Z",
     "start_time": "2022-10-10T17:09:08.259579Z"
    }
   },
   "outputs": [],
   "source": [
    "df_effect = df.groupby(['Treatment_Group', 'Post_Period'])[['Work']].mean().unstack(level=0)\n",
    "df_effect.columns = ['Control', 'Treatment']\n",
    "df_effect.index  = ['Pre', 'Post']"
   ]
  },
  {
   "cell_type": "code",
   "execution_count": 8,
   "metadata": {
    "ExecuteTime": {
     "end_time": "2022-10-10T17:09:08.586948Z",
     "start_time": "2022-10-10T17:09:08.567332Z"
    }
   },
   "outputs": [],
   "source": [
    "df_effect['diff'] = df_effect['Treatment'] - df_effect['Control']"
   ]
  },
  {
   "cell_type": "code",
   "execution_count": 9,
   "metadata": {
    "ExecuteTime": {
     "end_time": "2022-10-10T17:09:08.942700Z",
     "start_time": "2022-10-10T17:09:08.917477Z"
    }
   },
   "outputs": [
    {
     "data": {
      "text/html": [
       "<div><div id=3a22d1dd-e964-44d7-9c95-8a336ba822fe style=\"display:none; background-color:#9D6CFF; color:white; width:200px; height:30px; padding-left:5px; border-radius:4px; flex-direction:row; justify-content:space-around; align-items:center;\" onmouseover=\"this.style.backgroundColor='#BA9BF8'\" onmouseout=\"this.style.backgroundColor='#9D6CFF'\" onclick=\"window.commands?.execute('create-mitosheet-from-dataframe-output');\">See Full Dataframe in Mito</div> <script> if (window.commands?.hasCommand('create-mitosheet-from-dataframe-output')) document.getElementById('3a22d1dd-e964-44d7-9c95-8a336ba822fe').style.display = 'flex' </script> <table border=\"1\" class=\"dataframe\">\n",
       "  <thead>\n",
       "    <tr style=\"text-align: right;\">\n",
       "      <th></th>\n",
       "      <th>Control</th>\n",
       "      <th>Treatment</th>\n",
       "      <th>diff</th>\n",
       "    </tr>\n",
       "  </thead>\n",
       "  <tbody>\n",
       "    <tr>\n",
       "      <th>Pre</th>\n",
       "      <td>0.575460</td>\n",
       "      <td>0.445962</td>\n",
       "      <td>-0.129498</td>\n",
       "    </tr>\n",
       "    <tr>\n",
       "      <th>Post</th>\n",
       "      <td>0.573386</td>\n",
       "      <td>0.490761</td>\n",
       "      <td>-0.082625</td>\n",
       "    </tr>\n",
       "  </tbody>\n",
       "</table></div>"
      ],
      "text/plain": [
       "       Control  Treatment      diff\n",
       "Pre   0.575460   0.445962 -0.129498\n",
       "Post  0.573386   0.490761 -0.082625"
      ]
     },
     "execution_count": 9,
     "metadata": {},
     "output_type": "execute_result"
    }
   ],
   "source": [
    "df_effect"
   ]
  },
  {
   "cell_type": "code",
   "execution_count": 10,
   "metadata": {
    "ExecuteTime": {
     "end_time": "2022-10-10T17:09:09.285315Z",
     "start_time": "2022-10-10T17:09:09.260992Z"
    }
   },
   "outputs": [],
   "source": [
    "did = df_effect.loc[df_effect.index=='Post', 'diff'][0] - df_effect.loc[df_effect.index=='Pre', 'diff'][0] # did: diff in diff"
   ]
  },
  {
   "cell_type": "code",
   "execution_count": 11,
   "metadata": {
    "ExecuteTime": {
     "end_time": "2022-10-10T17:09:09.629947Z",
     "start_time": "2022-10-10T17:09:09.608574Z"
    }
   },
   "outputs": [
    {
     "data": {
      "text/plain": [
       "0.04687313210185562"
      ]
     },
     "execution_count": 11,
     "metadata": {},
     "output_type": "execute_result"
    }
   ],
   "source": [
    "did"
   ]
  },
  {
   "cell_type": "markdown",
   "metadata": {},
   "source": [
    "So the calulated lift is 0.046 or 4.6%"
   ]
  },
  {
   "cell_type": "code",
   "execution_count": 12,
   "metadata": {
    "ExecuteTime": {
     "end_time": "2022-10-10T17:09:10.521960Z",
     "start_time": "2022-10-10T17:09:10.339417Z"
    }
   },
   "outputs": [
    {
     "data": {
      "image/png": "[encoded data removed]",
      "text/plain": [
       "<Figure size 864x432 with 1 Axes>"
      ]
     },
     "metadata": {
      "needs_background": "light"
     },
     "output_type": "display_data"
    }
   ],
   "source": [
    "ax = (df_effect[['Control', 'Treatment']] * 100).plot(kind='bar', figsize=(12,6), title='Diff in Diff calculation\\n')\n",
    "ax.set_ylabel(\"% of Metric\");"
   ]
  },
  {
   "cell_type": "code",
   "execution_count": 13,
   "metadata": {
    "ExecuteTime": {
     "end_time": "2022-10-10T17:09:10.865091Z",
     "start_time": "2022-10-10T17:09:10.720262Z"
    }
   },
   "outputs": [
    {
     "data": {
      "image/png": "[encoded data removed]",
      "text/plain": [
       "<Figure size 864x432 with 1 Axes>"
      ]
     },
     "metadata": {
      "needs_background": "light"
     },
     "output_type": "display_data"
    }
   ],
   "source": [
    "ax = (df_effect['diff'] * 100 ).plot(kind='bar', figsize=(12,6), title='Comparing difference between Test and Control \\nfor pre and post intervention\\n')\n",
    "ax.set_ylabel(\"% Dif between Test and Control\");"
   ]
  },
  {
   "cell_type": "code",
   "execution_count": 14,
   "metadata": {
    "ExecuteTime": {
     "end_time": "2022-10-10T17:09:11.240184Z",
     "start_time": "2022-10-10T17:09:11.072497Z"
    }
   },
   "outputs": [
    {
     "data": {
      "image/png": "[encoded data removed]",
      "text/plain": [
       "<Figure size 576x432 with 1 Axes>"
      ]
     },
     "metadata": {
      "needs_background": "light"
     },
     "output_type": "display_data"
    }
   ],
   "source": [
    "ax = pd.DataFrame({'Diff in Diff':[ did * 100]}, index=['DID']).\\\n",
    "    plot(kind='bar',  title='Diff: (pre vs post) in Diff: (test vs control)\\n', figsize=(8,6), width=0.3)\n",
    "ax.annotate(f'{round(did*100, 1)}%', (-0.04, round(did*100, 1)-0.5), size=16,  weight='bold', color='white');"
   ]
  },
  {
   "cell_type": "markdown",
   "metadata": {},
   "source": [
    "### Regression estimation"
   ]
  },
  {
   "cell_type": "markdown",
   "metadata": {},
   "source": [
    "We can also calculate the Diff in Diff with a linear regression using only the $Metric$, the $TreatmentVar$ and the $ProPostPeriodVar$"
   ]
  },
  {
   "cell_type": "code",
   "execution_count": 15,
   "metadata": {
    "ExecuteTime": {
     "end_time": "2022-10-10T17:09:11.910919Z",
     "start_time": "2022-10-10T17:09:11.894418Z"
    }
   },
   "outputs": [
    {
     "data": {
      "text/html": [
       "<div><div id=a5400b4f-3afd-4bfb-a763-15ad0ed108c2 style=\"display:none; background-color:#9D6CFF; color:white; width:200px; height:30px; padding-left:5px; border-radius:4px; flex-direction:row; justify-content:space-around; align-items:center;\" onmouseover=\"this.style.backgroundColor='#BA9BF8'\" onmouseout=\"this.style.backgroundColor='#9D6CFF'\" onclick=\"window.commands?.execute('create-mitosheet-from-dataframe-output');\">See Full Dataframe in Mito</div> <script> if (window.commands?.hasCommand('create-mitosheet-from-dataframe-output')) document.getElementById('a5400b4f-3afd-4bfb-a763-15ad0ed108c2').style.display = 'flex' </script> <table border=\"1\" class=\"dataframe\">\n",
       "  <thead>\n",
       "    <tr style=\"text-align: right;\">\n",
       "      <th></th>\n",
       "      <th>Work</th>\n",
       "      <th>Post_Period</th>\n",
       "      <th>Treatment_Group</th>\n",
       "    </tr>\n",
       "  </thead>\n",
       "  <tbody>\n",
       "    <tr>\n",
       "      <th>0</th>\n",
       "      <td>1</td>\n",
       "      <td>0</td>\n",
       "      <td>0</td>\n",
       "    </tr>\n",
       "    <tr>\n",
       "      <th>1</th>\n",
       "      <td>1</td>\n",
       "      <td>0</td>\n",
       "      <td>1</td>\n",
       "    </tr>\n",
       "    <tr>\n",
       "      <th>2</th>\n",
       "      <td>0</td>\n",
       "      <td>0</td>\n",
       "      <td>1</td>\n",
       "    </tr>\n",
       "    <tr>\n",
       "      <th>3</th>\n",
       "      <td>0</td>\n",
       "      <td>0</td>\n",
       "      <td>0</td>\n",
       "    </tr>\n",
       "    <tr>\n",
       "      <th>4</th>\n",
       "      <td>1</td>\n",
       "      <td>0</td>\n",
       "      <td>1</td>\n",
       "    </tr>\n",
       "  </tbody>\n",
       "</table></div>"
      ],
      "text/plain": [
       "   Work  Post_Period  Treatment_Group\n",
       "0     1            0                0\n",
       "1     1            0                1\n",
       "2     0            0                1\n",
       "3     0            0                0\n",
       "4     1            0                1"
      ]
     },
     "execution_count": 15,
     "metadata": {},
     "output_type": "execute_result"
    }
   ],
   "source": [
    "df[['Work', 'Post_Period', 'Treatment_Group']].head(5)"
   ]
  },
  {
   "cell_type": "markdown",
   "metadata": {},
   "source": [
    "$Work = b_0 + b_1 * Post\\_Period + b_2 * Treatment\\_Group + b_3 * (Post\\_Period * Treatment\\_Group)$"
   ]
  },
  {
   "cell_type": "markdown",
   "metadata": {},
   "source": [
    "Notice the Treatment group and the Post period need to be recoded as `1`, Pre period and Contol group as `0`"
   ]
  },
  {
   "cell_type": "code",
   "execution_count": 16,
   "metadata": {
    "ExecuteTime": {
     "end_time": "2022-10-10T17:09:12.562395Z",
     "start_time": "2022-10-10T17:09:12.548693Z"
    }
   },
   "outputs": [],
   "source": [
    "tmp = df[['Work', 'Post_Period', 'Treatment_Group']].copy()\n",
    "tmp['Interaction'] = tmp['Post_Period'] * tmp['Treatment_Group'] # this is the group we are interested in, i.e. After treatment date for the treatment group"
   ]
  },
  {
   "cell_type": "code",
   "execution_count": 17,
   "metadata": {
    "ExecuteTime": {
     "end_time": "2022-10-10T17:09:12.813509Z",
     "start_time": "2022-10-10T17:09:12.754528Z"
    }
   },
   "outputs": [
    {
     "data": {
      "text/html": [
       "<table class=\"simpletable\">\n",
       "<caption>OLS Regression Results</caption>\n",
       "<tr>\n",
       "  <th>Dep. Variable:</th>          <td>Work</td>       <th>  R-squared:         </th> <td>   0.013</td> \n",
       "</tr>\n",
       "<tr>\n",
       "  <th>Model:</th>                   <td>OLS</td>       <th>  Adj. R-squared:    </th> <td>   0.012</td> \n",
       "</tr>\n",
       "<tr>\n",
       "  <th>Method:</th>             <td>Least Squares</td>  <th>  F-statistic:       </th> <td>   58.45</td> \n",
       "</tr>\n",
       "<tr>\n",
       "  <th>Date:</th>             <td>Mon, 10 Oct 2022</td> <th>  Prob (F-statistic):</th> <td>1.54e-37</td> \n",
       "</tr>\n",
       "<tr>\n",
       "  <th>Time:</th>                 <td>20:09:12</td>     <th>  Log-Likelihood:    </th> <td> -9884.9</td> \n",
       "</tr>\n",
       "<tr>\n",
       "  <th>No. Observations:</th>      <td> 13746</td>      <th>  AIC:               </th> <td>1.978e+04</td>\n",
       "</tr>\n",
       "<tr>\n",
       "  <th>Df Residuals:</th>          <td> 13742</td>      <th>  BIC:               </th> <td>1.981e+04</td>\n",
       "</tr>\n",
       "<tr>\n",
       "  <th>Df Model:</th>              <td>     3</td>      <th>                     </th>     <td> </td>    \n",
       "</tr>\n",
       "<tr>\n",
       "  <th>Covariance Type:</th>      <td>nonrobust</td>    <th>                     </th>     <td> </td>    \n",
       "</tr>\n",
       "</table>\n",
       "<table class=\"simpletable\">\n",
       "<tr>\n",
       "         <td></td>            <th>coef</th>     <th>std err</th>      <th>t</th>      <th>P>|t|</th>  <th>[0.025</th>    <th>0.975]</th>  \n",
       "</tr>\n",
       "<tr>\n",
       "  <th>const</th>           <td>    0.5755</td> <td>    0.009</td> <td>   65.060</td> <td> 0.000</td> <td>    0.558</td> <td>    0.593</td>\n",
       "</tr>\n",
       "<tr>\n",
       "  <th>Post_Period</th>     <td>   -0.0021</td> <td>    0.013</td> <td>   -0.160</td> <td> 0.873</td> <td>   -0.027</td> <td>    0.023</td>\n",
       "</tr>\n",
       "<tr>\n",
       "  <th>Treatment_Group</th> <td>   -0.1295</td> <td>    0.012</td> <td>  -11.091</td> <td> 0.000</td> <td>   -0.152</td> <td>   -0.107</td>\n",
       "</tr>\n",
       "<tr>\n",
       "  <th>Interaction</th>     <td>    0.0469</td> <td>    0.017</td> <td>    2.732</td> <td> 0.006</td> <td>    0.013</td> <td>    0.081</td>\n",
       "</tr>\n",
       "</table>\n",
       "<table class=\"simpletable\">\n",
       "<tr>\n",
       "  <th>Omnibus:</th>       <td>48666.260</td> <th>  Durbin-Watson:     </th> <td>   1.978</td>\n",
       "</tr>\n",
       "<tr>\n",
       "  <th>Prob(Omnibus):</th>  <td> 0.000</td>   <th>  Jarque-Bera (JB):  </th> <td>2175.929</td>\n",
       "</tr>\n",
       "<tr>\n",
       "  <th>Skew:</th>           <td>-0.051</td>   <th>  Prob(JB):          </th> <td>    0.00</td>\n",
       "</tr>\n",
       "<tr>\n",
       "  <th>Kurtosis:</th>       <td> 1.054</td>   <th>  Cond. No.          </th> <td>    7.14</td>\n",
       "</tr>\n",
       "</table><br/><br/>Notes:<br/>[1] Standard Errors assume that the covariance matrix of the errors is correctly specified."
      ],
      "text/plain": [
       "<class 'statsmodels.iolib.summary.Summary'>\n",
       "\"\"\"\n",
       "                            OLS Regression Results                            \n",
       "==============================================================================\n",
       "Dep. Variable:                   Work   R-squared:                       0.013\n",
       "Model:                            OLS   Adj. R-squared:                  0.012\n",
       "Method:                 Least Squares   F-statistic:                     58.45\n",
       "Date:                Mon, 10 Oct 2022   Prob (F-statistic):           1.54e-37\n",
       "Time:                        20:09:12   Log-Likelihood:                -9884.9\n",
       "No. Observations:               13746   AIC:                         1.978e+04\n",
       "Df Residuals:                   13742   BIC:                         1.981e+04\n",
       "Df Model:                           3                                         \n",
       "Covariance Type:            nonrobust                                         \n",
       "===================================================================================\n",
       "                      coef    std err          t      P>|t|      [0.025      0.975]\n",
       "-----------------------------------------------------------------------------------\n",
       "const               0.5755      0.009     65.060      0.000       0.558       0.593\n",
       "Post_Period        -0.0021      0.013     -0.160      0.873      -0.027       0.023\n",
       "Treatment_Group    -0.1295      0.012    -11.091      0.000      -0.152      -0.107\n",
       "Interaction         0.0469      0.017      2.732      0.006       0.013       0.081\n",
       "==============================================================================\n",
       "Omnibus:                    48666.260   Durbin-Watson:                   1.978\n",
       "Prob(Omnibus):                  0.000   Jarque-Bera (JB):             2175.929\n",
       "Skew:                          -0.051   Prob(JB):                         0.00\n",
       "Kurtosis:                       1.054   Cond. No.                         7.14\n",
       "==============================================================================\n",
       "\n",
       "Notes:\n",
       "[1] Standard Errors assume that the covariance matrix of the errors is correctly specified.\n",
       "\"\"\""
      ]
     },
     "execution_count": 17,
     "metadata": {},
     "output_type": "execute_result"
    }
   ],
   "source": [
    "X = tmp[['Post_Period', 'Treatment_Group', 'Interaction']]\n",
    "X = sm.add_constant(X)\n",
    "\n",
    "y = tmp['Work']\n",
    "\n",
    "# Note the difference in argument order\n",
    "model = sm.OLS(y, X).fit()\n",
    "\n",
    "# Print out the statistics\n",
    "model.summary()"
   ]
  },
  {
   "cell_type": "markdown",
   "metadata": {},
   "source": [
    "Notice that we get exactly the same result i.e. the coefficient of the interaction term is the same as the effect we computed before"
   ]
  },
  {
   "cell_type": "code",
   "execution_count": 18,
   "metadata": {
    "ExecuteTime": {
     "end_time": "2022-10-10T17:09:13.505813Z",
     "start_time": "2022-10-10T17:09:13.496811Z"
    }
   },
   "outputs": [
    {
     "data": {
      "text/plain": [
       "True"
      ]
     },
     "execution_count": 18,
     "metadata": {},
     "output_type": "execute_result"
    }
   ],
   "source": [
    "round(model.params['Interaction'], 5) == round(did, 5)"
   ]
  },
  {
   "cell_type": "code",
   "execution_count": 19,
   "metadata": {
    "ExecuteTime": {
     "end_time": "2022-10-10T17:09:13.925303Z",
     "start_time": "2022-10-10T17:09:13.768137Z"
    }
   },
   "outputs": [
    {
     "data": {
      "image/png": "[encoded data removed]",
      "text/plain": [
       "<Figure size 576x432 with 1 Axes>"
      ]
     },
     "metadata": {
      "needs_background": "light"
     },
     "output_type": "display_data"
    }
   ],
   "source": [
    "coeff = model.params['Interaction'] * 100\n",
    "lower = model.conf_int().loc[\"Interaction\"][0]*100\n",
    "upper = model.conf_int().loc[\"Interaction\"][1]*100\n",
    "\n",
    "\n",
    "ax = pd.DataFrame({'Diff in Diff':[coeff]}, index=['DID']).plot(kind='bar', \n",
    "            yerr=[[coeff - lower]], \n",
    "            width=0.3, error_kw=dict(elinewidth=5,ecolor='darkblue'), \n",
    "            title='Diff in Diff @ 95% confidence\\n', figsize=(8,6))\n",
    "\n",
    "ax.annotate(f'{round(coeff, 1)}%', (0.01, round(coeff, 1)-0.5), size=16,  weight='bold', color='white')\n",
    "ax.annotate(f'{round(lower, 1)}%', (0.01, round(lower, 1)), size=16,  weight='bold', color='darkblue')\n",
    "ax.annotate(f'{round(upper, 1)}%', (0.01, round(upper-0.5, 1)), size=16,  weight='bold', color='darkblue');"
   ]
  },
  {
   "cell_type": "markdown",
   "metadata": {},
   "source": [
    "### Include confounding effects\n",
    "\n"
   ]
  },
  {
   "cell_type": "code",
   "execution_count": 21,
   "metadata": {
    "ExecuteTime": {
     "end_time": "2022-10-10T17:09:22.610755Z",
     "start_time": "2022-10-10T17:09:22.588493Z"
    }
   },
   "outputs": [],
   "source": [
    "tmp = df[['Work', 'Post_Period', 'Treatment_Group', 'Nonwhite', 'Earn', 'Age', 'Ed', 'Unearn', 'Urate']].copy()\n",
    "tmp['Interaction'] = tmp['Post_Period'] * tmp['Treatment_Group'] # this is the group we are interested in, i.e. After treatment date and the treatment group"
   ]
  },
  {
   "cell_type": "code",
   "execution_count": 22,
   "metadata": {
    "ExecuteTime": {
     "end_time": "2022-10-10T17:09:23.140979Z",
     "start_time": "2022-10-10T17:09:23.087126Z"
    }
   },
   "outputs": [
    {
     "data": {
      "text/html": [
       "<table class=\"simpletable\">\n",
       "<caption>OLS Regression Results</caption>\n",
       "<tr>\n",
       "  <th>Dep. Variable:</th>          <td>Work</td>       <th>  R-squared:         </th> <td>   0.195</td> \n",
       "</tr>\n",
       "<tr>\n",
       "  <th>Model:</th>                   <td>OLS</td>       <th>  Adj. R-squared:    </th> <td>   0.194</td> \n",
       "</tr>\n",
       "<tr>\n",
       "  <th>Method:</th>             <td>Least Squares</td>  <th>  F-statistic:       </th> <td>   369.3</td> \n",
       "</tr>\n",
       "<tr>\n",
       "  <th>Date:</th>             <td>Mon, 10 Oct 2022</td> <th>  Prob (F-statistic):</th>  <td>  0.00</td>  \n",
       "</tr>\n",
       "<tr>\n",
       "  <th>Time:</th>                 <td>20:09:23</td>     <th>  Log-Likelihood:    </th> <td> -8482.8</td> \n",
       "</tr>\n",
       "<tr>\n",
       "  <th>No. Observations:</th>      <td> 13746</td>      <th>  AIC:               </th> <td>1.699e+04</td>\n",
       "</tr>\n",
       "<tr>\n",
       "  <th>Df Residuals:</th>          <td> 13736</td>      <th>  BIC:               </th> <td>1.706e+04</td>\n",
       "</tr>\n",
       "<tr>\n",
       "  <th>Df Model:</th>              <td>     9</td>      <th>                     </th>     <td> </td>    \n",
       "</tr>\n",
       "<tr>\n",
       "  <th>Covariance Type:</th>      <td>nonrobust</td>    <th>                     </th>     <td> </td>    \n",
       "</tr>\n",
       "</table>\n",
       "<table class=\"simpletable\">\n",
       "<tr>\n",
       "         <td></td>            <th>coef</th>     <th>std err</th>      <th>t</th>      <th>P>|t|</th>  <th>[0.025</th>    <th>0.975]</th>  \n",
       "</tr>\n",
       "<tr>\n",
       "  <th>const</th>           <td>    0.4542</td> <td>    0.032</td> <td>   13.996</td> <td> 0.000</td> <td>    0.391</td> <td>    0.518</td>\n",
       "</tr>\n",
       "<tr>\n",
       "  <th>Post_Period</th>     <td>   -0.0253</td> <td>    0.012</td> <td>   -2.054</td> <td> 0.040</td> <td>   -0.049</td> <td>   -0.001</td>\n",
       "</tr>\n",
       "<tr>\n",
       "  <th>Treatment_Group</th> <td>   -0.0535</td> <td>    0.011</td> <td>   -4.889</td> <td> 0.000</td> <td>   -0.075</td> <td>   -0.032</td>\n",
       "</tr>\n",
       "<tr>\n",
       "  <th>Nonwhite</th>        <td>   -0.0533</td> <td>    0.008</td> <td>   -6.486</td> <td> 0.000</td> <td>   -0.069</td> <td>   -0.037</td>\n",
       "</tr>\n",
       "<tr>\n",
       "  <th>Earn</th>            <td>  8.91e-06</td> <td> 2.13e-07</td> <td>   41.772</td> <td> 0.000</td> <td> 8.49e-06</td> <td> 9.33e-06</td>\n",
       "</tr>\n",
       "<tr>\n",
       "  <th>Age</th>             <td>    0.0027</td> <td>    0.000</td> <td>    6.878</td> <td> 0.000</td> <td>    0.002</td> <td>    0.004</td>\n",
       "</tr>\n",
       "<tr>\n",
       "  <th>Ed</th>              <td>    0.0131</td> <td>    0.001</td> <td>    8.796</td> <td> 0.000</td> <td>    0.010</td> <td>    0.016</td>\n",
       "</tr>\n",
       "<tr>\n",
       "  <th>Unearn</th>          <td>   -0.0177</td> <td>    0.001</td> <td>  -32.594</td> <td> 0.000</td> <td>   -0.019</td> <td>   -0.017</td>\n",
       "</tr>\n",
       "<tr>\n",
       "  <th>Urate</th>           <td>   -0.0144</td> <td>    0.003</td> <td>   -4.787</td> <td> 0.000</td> <td>   -0.020</td> <td>   -0.009</td>\n",
       "</tr>\n",
       "<tr>\n",
       "  <th>Interaction</th>     <td>    0.0401</td> <td>    0.016</td> <td>    2.588</td> <td> 0.010</td> <td>    0.010</td> <td>    0.071</td>\n",
       "</tr>\n",
       "</table>\n",
       "<table class=\"simpletable\">\n",
       "<tr>\n",
       "  <th>Omnibus:</th>       <td>49.288</td> <th>  Durbin-Watson:     </th> <td>   1.991</td>\n",
       "</tr>\n",
       "<tr>\n",
       "  <th>Prob(Omnibus):</th> <td> 0.000</td> <th>  Jarque-Bera (JB):  </th> <td>  49.765</td>\n",
       "</tr>\n",
       "<tr>\n",
       "  <th>Skew:</th>          <td>-0.146</td> <th>  Prob(JB):          </th> <td>1.56e-11</td>\n",
       "</tr>\n",
       "<tr>\n",
       "  <th>Kurtosis:</th>      <td> 2.959</td> <th>  Cond. No.          </th> <td>1.82e+05</td>\n",
       "</tr>\n",
       "</table><br/><br/>Notes:<br/>[1] Standard Errors assume that the covariance matrix of the errors is correctly specified.<br/>[2] The condition number is large, 1.82e+05. This might indicate that there are<br/>strong multicollinearity or other numerical problems."
      ],
      "text/plain": [
       "<class 'statsmodels.iolib.summary.Summary'>\n",
       "\"\"\"\n",
       "                            OLS Regression Results                            \n",
       "==============================================================================\n",
       "Dep. Variable:                   Work   R-squared:                       0.195\n",
       "Model:                            OLS   Adj. R-squared:                  0.194\n",
       "Method:                 Least Squares   F-statistic:                     369.3\n",
       "Date:                Mon, 10 Oct 2022   Prob (F-statistic):               0.00\n",
       "Time:                        20:09:23   Log-Likelihood:                -8482.8\n",
       "No. Observations:               13746   AIC:                         1.699e+04\n",
       "Df Residuals:                   13736   BIC:                         1.706e+04\n",
       "Df Model:                           9                                         \n",
       "Covariance Type:            nonrobust                                         \n",
       "===================================================================================\n",
       "                      coef    std err          t      P>|t|      [0.025      0.975]\n",
       "-----------------------------------------------------------------------------------\n",
       "const               0.4542      0.032     13.996      0.000       0.391       0.518\n",
       "Post_Period        -0.0253      0.012     -2.054      0.040      -0.049      -0.001\n",
       "Treatment_Group    -0.0535      0.011     -4.889      0.000      -0.075      -0.032\n",
       "Nonwhite           -0.0533      0.008     -6.486      0.000      -0.069      -0.037\n",
       "Earn              8.91e-06   2.13e-07     41.772      0.000    8.49e-06    9.33e-06\n",
       "Age                 0.0027      0.000      6.878      0.000       0.002       0.004\n",
       "Ed                  0.0131      0.001      8.796      0.000       0.010       0.016\n",
       "Unearn             -0.0177      0.001    -32.594      0.000      -0.019      -0.017\n",
       "Urate              -0.0144      0.003     -4.787      0.000      -0.020      -0.009\n",
       "Interaction         0.0401      0.016      2.588      0.010       0.010       0.071\n",
       "==============================================================================\n",
       "Omnibus:                       49.288   Durbin-Watson:                   1.991\n",
       "Prob(Omnibus):                  0.000   Jarque-Bera (JB):               49.765\n",
       "Skew:                          -0.146   Prob(JB):                     1.56e-11\n",
       "Kurtosis:                       2.959   Cond. No.                     1.82e+05\n",
       "==============================================================================\n",
       "\n",
       "Notes:\n",
       "[1] Standard Errors assume that the covariance matrix of the errors is correctly specified.\n",
       "[2] The condition number is large, 1.82e+05. This might indicate that there are\n",
       "strong multicollinearity or other numerical problems.\n",
       "\"\"\""
      ]
     },
     "execution_count": 22,
     "metadata": {},
     "output_type": "execute_result"
    }
   ],
   "source": [
    "# With linear regression\n",
    "X = tmp[['Post_Period', 'Treatment_Group', 'Nonwhite', 'Earn', 'Age', 'Ed', 'Unearn', 'Urate', 'Interaction']]\n",
    "X = sm.add_constant(X)\n",
    "\n",
    "y = tmp['Work']\n",
    "\n",
    "# Note the difference in argument order\n",
    "model = sm.OLS(y, X).fit()\n",
    "\n",
    "# Print out the statistics\n",
    "model.summary()"
   ]
  },
  {
   "cell_type": "markdown",
   "metadata": {},
   "source": [
    "So the true lift is 0.0401 or <b>4.01%</b> (as seen from the beta coefficient in the regression results above). Notice also that `P value < 0.05` hence statistically significant"
   ]
  },
  {
   "cell_type": "code",
   "execution_count": 23,
   "metadata": {
    "ExecuteTime": {
     "end_time": "2022-10-10T17:09:24.048597Z",
     "start_time": "2022-10-10T17:09:24.029296Z"
    }
   },
   "outputs": [
    {
     "data": {
      "text/plain": [
       "0.040134574661621264"
      ]
     },
     "execution_count": 23,
     "metadata": {},
     "output_type": "execute_result"
    }
   ],
   "source": [
    "model.params['Interaction']"
   ]
  },
  {
   "cell_type": "code",
   "execution_count": 24,
   "metadata": {
    "ExecuteTime": {
     "end_time": "2022-10-10T17:09:24.607606Z",
     "start_time": "2022-10-10T17:09:24.449418Z"
    }
   },
   "outputs": [
    {
     "data": {
      "image/png": "[encoded data removed]",
      "text/plain": [
       "<Figure size 576x432 with 1 Axes>"
      ]
     },
     "metadata": {
      "needs_background": "light"
     },
     "output_type": "display_data"
    }
   ],
   "source": [
    "coeff = model.params['Interaction'] * 100\n",
    "lower = model.conf_int().loc[\"Interaction\"][0]*100\n",
    "upper = model.conf_int().loc[\"Interaction\"][1]*100\n",
    "\n",
    "\n",
    "ax = pd.DataFrame({'Diff in Diff':[coeff]}, index=['DID']).plot(kind='bar', \n",
    "            yerr=[[coeff - lower]], \n",
    "            width=0.3, error_kw=dict(elinewidth=5,ecolor='darkblue'), \n",
    "            title='Diff in Diff @ 95% confidence\\n', figsize=(8,6))\n",
    "\n",
    "ax.annotate(f'{round(coeff, 1)}%', (0.01, round(coeff, 1)-0.5), size=16,  weight='bold', color='white')\n",
    "ax.annotate(f'{round(lower, 1)}%', (0.01, round(lower, 1)), size=16,  weight='bold', color='darkblue')\n",
    "ax.annotate(f'{round(upper, 1)}%', (0.01, round(upper-0.5, 1)), size=16,  weight='bold', color='darkblue');"
   ]
  },
  {
   "cell_type": "markdown",
   "metadata": {},
   "source": [
    "### Placebo"
   ]
  },
  {
   "cell_type": "markdown",
   "metadata": {},
   "source": [
    "Besides the p value, we need to run a placebo test to further verify that we can trust our results. What we want with the placebo is to find <b>No significance </b>in the new Interation variable that we are going to create"
   ]
  },
  {
   "cell_type": "markdown",
   "metadata": {},
   "source": [
    "<b>How</b>: Arbitrarily choose a treatment time before your actual treatment time, and test to see if you get a significant treatment effect."
   ]
  },
  {
   "cell_type": "code",
   "execution_count": 25,
   "metadata": {
    "ExecuteTime": {
     "end_time": "2022-10-10T17:09:25.580510Z",
     "start_time": "2022-10-10T17:09:25.573499Z"
    }
   },
   "outputs": [],
   "source": [
    "# sub set the data, including only years before the intervention date (1994).\n",
    "df_sub = df[df['Year'] <= 1993].copy()"
   ]
  },
  {
   "cell_type": "code",
   "execution_count": 26,
   "metadata": {
    "ExecuteTime": {
     "end_time": "2022-10-10T17:09:25.781257Z",
     "start_time": "2022-10-10T17:09:25.768293Z"
    }
   },
   "outputs": [],
   "source": [
    "# Create a new intervention date say 1992\n",
    "df_sub['Post_Period'] = np.select([df_sub['Year']>=1992], [1], default=0)"
   ]
  },
  {
   "cell_type": "code",
   "execution_count": 27,
   "metadata": {
    "ExecuteTime": {
     "end_time": "2022-10-10T17:09:26.030833Z",
     "start_time": "2022-10-10T17:09:26.017006Z"
    }
   },
   "outputs": [],
   "source": [
    "tmp = df_sub[['Work', 'Post_Period', 'Treatment_Group']].copy()\n",
    "tmp['Interaction'] = tmp['Post_Period'] * tmp['Treatment_Group']"
   ]
  },
  {
   "cell_type": "code",
   "execution_count": 28,
   "metadata": {
    "ExecuteTime": {
     "end_time": "2022-10-10T17:09:26.432874Z",
     "start_time": "2022-10-10T17:09:26.421146Z"
    }
   },
   "outputs": [],
   "source": [
    "df_effect = tmp.groupby(['Treatment_Group', 'Post_Period'])[['Work']].mean().unstack(level=0)\n",
    "df_effect.columns = ['Control', 'Treatment']\n",
    "df_effect.index  = ['Pre', 'Post']"
   ]
  },
  {
   "cell_type": "code",
   "execution_count": 29,
   "metadata": {
    "ExecuteTime": {
     "end_time": "2022-10-10T17:09:26.792235Z",
     "start_time": "2022-10-10T17:09:26.780538Z"
    }
   },
   "outputs": [],
   "source": [
    "df_effect['diff'] = df_effect['Treatment'] - df_effect['Control']"
   ]
  },
  {
   "cell_type": "code",
   "execution_count": 30,
   "metadata": {
    "ExecuteTime": {
     "end_time": "2022-10-10T17:09:27.230314Z",
     "start_time": "2022-10-10T17:09:27.203792Z"
    }
   },
   "outputs": [
    {
     "data": {
      "text/html": [
       "<div><div id=544f6347-e1b1-4f2d-9116-00bd723c9228 style=\"display:none; background-color:#9D6CFF; color:white; width:200px; height:30px; padding-left:5px; border-radius:4px; flex-direction:row; justify-content:space-around; align-items:center;\" onmouseover=\"this.style.backgroundColor='#BA9BF8'\" onmouseout=\"this.style.backgroundColor='#9D6CFF'\" onclick=\"window.commands?.execute('create-mitosheet-from-dataframe-output');\">See Full Dataframe in Mito</div> <script> if (window.commands?.hasCommand('create-mitosheet-from-dataframe-output')) document.getElementById('544f6347-e1b1-4f2d-9116-00bd723c9228').style.display = 'flex' </script> <table border=\"1\" class=\"dataframe\">\n",
       "  <thead>\n",
       "    <tr style=\"text-align: right;\">\n",
       "      <th></th>\n",
       "      <th>Control</th>\n",
       "      <th>Treatment</th>\n",
       "      <th>diff</th>\n",
       "    </tr>\n",
       "  </thead>\n",
       "  <tbody>\n",
       "    <tr>\n",
       "      <th>Pre</th>\n",
       "      <td>0.583032</td>\n",
       "      <td>0.460053</td>\n",
       "      <td>-0.122979</td>\n",
       "    </tr>\n",
       "    <tr>\n",
       "      <th>Post</th>\n",
       "      <td>0.571359</td>\n",
       "      <td>0.438251</td>\n",
       "      <td>-0.133107</td>\n",
       "    </tr>\n",
       "  </tbody>\n",
       "</table></div>"
      ],
      "text/plain": [
       "       Control  Treatment      diff\n",
       "Pre   0.583032   0.460053 -0.122979\n",
       "Post  0.571359   0.438251 -0.133107"
      ]
     },
     "execution_count": 30,
     "metadata": {},
     "output_type": "execute_result"
    }
   ],
   "source": [
    "df_effect"
   ]
  },
  {
   "cell_type": "code",
   "execution_count": 31,
   "metadata": {
    "ExecuteTime": {
     "end_time": "2022-10-10T17:09:27.496134Z",
     "start_time": "2022-10-10T17:09:27.484097Z"
    }
   },
   "outputs": [],
   "source": [
    "did_placebo = df_effect.loc[df_effect.index=='Post', 'diff'][0] - df_effect.loc[df_effect.index=='Pre', 'diff'][0] # did: diff in diff"
   ]
  },
  {
   "cell_type": "code",
   "execution_count": 32,
   "metadata": {
    "ExecuteTime": {
     "end_time": "2022-10-10T17:09:27.792884Z",
     "start_time": "2022-10-10T17:09:27.784164Z"
    }
   },
   "outputs": [
    {
     "data": {
      "text/plain": [
       "-0.01012815400006667"
      ]
     },
     "execution_count": 32,
     "metadata": {},
     "output_type": "execute_result"
    }
   ],
   "source": [
    "did_placebo # close to zero"
   ]
  },
  {
   "cell_type": "code",
   "execution_count": 33,
   "metadata": {
    "ExecuteTime": {
     "end_time": "2022-10-10T17:09:28.196258Z",
     "start_time": "2022-10-10T17:09:28.159219Z"
    }
   },
   "outputs": [
    {
     "data": {
      "text/html": [
       "<table class=\"simpletable\">\n",
       "<caption>OLS Regression Results</caption>\n",
       "<tr>\n",
       "  <th>Dep. Variable:</th>          <td>Work</td>       <th>  R-squared:         </th> <td>   0.017</td> \n",
       "</tr>\n",
       "<tr>\n",
       "  <th>Model:</th>                   <td>OLS</td>       <th>  Adj. R-squared:    </th> <td>   0.016</td> \n",
       "</tr>\n",
       "<tr>\n",
       "  <th>Method:</th>             <td>Least Squares</td>  <th>  F-statistic:       </th> <td>   41.89</td> \n",
       "</tr>\n",
       "<tr>\n",
       "  <th>Date:</th>             <td>Mon, 10 Oct 2022</td> <th>  Prob (F-statistic):</th> <td>7.77e-27</td> \n",
       "</tr>\n",
       "<tr>\n",
       "  <th>Time:</th>                 <td>20:09:28</td>     <th>  Log-Likelihood:    </th> <td> -5309.2</td> \n",
       "</tr>\n",
       "<tr>\n",
       "  <th>No. Observations:</th>      <td>  7401</td>      <th>  AIC:               </th> <td>1.063e+04</td>\n",
       "</tr>\n",
       "<tr>\n",
       "  <th>Df Residuals:</th>          <td>  7397</td>      <th>  BIC:               </th> <td>1.065e+04</td>\n",
       "</tr>\n",
       "<tr>\n",
       "  <th>Df Model:</th>              <td>     3</td>      <th>                     </th>     <td> </td>    \n",
       "</tr>\n",
       "<tr>\n",
       "  <th>Covariance Type:</th>      <td>nonrobust</td>    <th>                     </th>     <td> </td>    \n",
       "</tr>\n",
       "</table>\n",
       "<table class=\"simpletable\">\n",
       "<tr>\n",
       "         <td></td>            <th>coef</th>     <th>std err</th>      <th>t</th>      <th>P>|t|</th>  <th>[0.025</th>    <th>0.975]</th>  \n",
       "</tr>\n",
       "<tr>\n",
       "  <th>const</th>           <td>    0.5830</td> <td>    0.015</td> <td>   39.132</td> <td> 0.000</td> <td>    0.554</td> <td>    0.612</td>\n",
       "</tr>\n",
       "<tr>\n",
       "  <th>Post_Period</th>     <td>   -0.0117</td> <td>    0.018</td> <td>   -0.631</td> <td> 0.528</td> <td>   -0.048</td> <td>    0.025</td>\n",
       "</tr>\n",
       "<tr>\n",
       "  <th>Treatment_Group</th> <td>   -0.1230</td> <td>    0.020</td> <td>   -6.262</td> <td> 0.000</td> <td>   -0.161</td> <td>   -0.084</td>\n",
       "</tr>\n",
       "<tr>\n",
       "  <th>Interaction</th>     <td>   -0.0101</td> <td>    0.024</td> <td>   -0.415</td> <td> 0.678</td> <td>   -0.058</td> <td>    0.038</td>\n",
       "</tr>\n",
       "</table>\n",
       "<table class=\"simpletable\">\n",
       "<tr>\n",
       "  <th>Omnibus:</th>       <td>26607.726</td> <th>  Durbin-Watson:     </th> <td>   1.960</td> \n",
       "</tr>\n",
       "<tr>\n",
       "  <th>Prob(Omnibus):</th>  <td> 0.000</td>   <th>  Jarque-Bera (JB):  </th> <td>1151.244</td> \n",
       "</tr>\n",
       "<tr>\n",
       "  <th>Skew:</th>           <td>-0.003</td>   <th>  Prob(JB):          </th> <td>1.02e-250</td>\n",
       "</tr>\n",
       "<tr>\n",
       "  <th>Kurtosis:</th>       <td> 1.068</td>   <th>  Cond. No.          </th> <td>    8.86</td> \n",
       "</tr>\n",
       "</table><br/><br/>Notes:<br/>[1] Standard Errors assume that the covariance matrix of the errors is correctly specified."
      ],
      "text/plain": [
       "<class 'statsmodels.iolib.summary.Summary'>\n",
       "\"\"\"\n",
       "                            OLS Regression Results                            \n",
       "==============================================================================\n",
       "Dep. Variable:                   Work   R-squared:                       0.017\n",
       "Model:                            OLS   Adj. R-squared:                  0.016\n",
       "Method:                 Least Squares   F-statistic:                     41.89\n",
       "Date:                Mon, 10 Oct 2022   Prob (F-statistic):           7.77e-27\n",
       "Time:                        20:09:28   Log-Likelihood:                -5309.2\n",
       "No. Observations:                7401   AIC:                         1.063e+04\n",
       "Df Residuals:                    7397   BIC:                         1.065e+04\n",
       "Df Model:                           3                                         \n",
       "Covariance Type:            nonrobust                                         \n",
       "===================================================================================\n",
       "                      coef    std err          t      P>|t|      [0.025      0.975]\n",
       "-----------------------------------------------------------------------------------\n",
       "const               0.5830      0.015     39.132      0.000       0.554       0.612\n",
       "Post_Period        -0.0117      0.018     -0.631      0.528      -0.048       0.025\n",
       "Treatment_Group    -0.1230      0.020     -6.262      0.000      -0.161      -0.084\n",
       "Interaction        -0.0101      0.024     -0.415      0.678      -0.058       0.038\n",
       "==============================================================================\n",
       "Omnibus:                    26607.726   Durbin-Watson:                   1.960\n",
       "Prob(Omnibus):                  0.000   Jarque-Bera (JB):             1151.244\n",
       "Skew:                          -0.003   Prob(JB):                    1.02e-250\n",
       "Kurtosis:                       1.068   Cond. No.                         8.86\n",
       "==============================================================================\n",
       "\n",
       "Notes:\n",
       "[1] Standard Errors assume that the covariance matrix of the errors is correctly specified.\n",
       "\"\"\""
      ]
     },
     "execution_count": 33,
     "metadata": {},
     "output_type": "execute_result"
    }
   ],
   "source": [
    "X = tmp[['Post_Period', 'Treatment_Group', 'Interaction']]\n",
    "X = sm.add_constant(X)\n",
    "\n",
    "y = tmp['Work']\n",
    "\n",
    "# Note the difference in argument order\n",
    "model = sm.OLS(y, X).fit()\n",
    "\n",
    "# Print out the statistics\n",
    "model.summary()"
   ]
  },
  {
   "cell_type": "markdown",
   "metadata": {},
   "source": [
    "We see that the interaction term is insignificant `p value > 0.05`. So we can trust our initial findings of a significant difference"
   ]
  },
  {
   "cell_type": "code",
   "execution_count": 34,
   "metadata": {
    "ExecuteTime": {
     "end_time": "2022-10-10T17:09:29.651205Z",
     "start_time": "2022-10-10T17:09:29.490107Z"
    }
   },
   "outputs": [
    {
     "data": {
      "image/png": "[encoded data removed]",
      "text/plain": [
       "<Figure size 576x432 with 1 Axes>"
      ]
     },
     "metadata": {
      "needs_background": "light"
     },
     "output_type": "display_data"
    }
   ],
   "source": [
    "coeff = model.params['Interaction'] * 100\n",
    "lower = model.conf_int().loc[\"Interaction\"][0]*100\n",
    "upper = model.conf_int().loc[\"Interaction\"][1]*100\n",
    "\n",
    "\n",
    "ax = pd.DataFrame({'Diff in Diff':[coeff]}, index=['DID']).plot(kind='bar', \n",
    "            yerr=[[coeff - lower]], \n",
    "            width=0.3, error_kw=dict(elinewidth=5,ecolor='darkblue'), \n",
    "            title='Diff in Diff @ 95% confidence\\n', figsize=(8,6))\n",
    "\n",
    "ax.annotate(f'{round(coeff, 1)}%', (0.01, round(coeff+0.1, 1)), size=16,  weight='bold', color='white')\n",
    "ax.annotate(f'{round(lower, 1)}%', (0.01, round(lower, 1)), size=16,  weight='bold', color='darkblue')\n",
    "ax.annotate(f'{round(upper, 1)}%', (0.01, round(upper-0.5, 1)), size=16,  weight='bold', color='darkblue');"
   ]
  },
  {
   "cell_type": "markdown",
   "metadata": {},
   "source": [
    "### Placebo 2<sup>nd</sup> option"
   ]
  },
  {
   "cell_type": "markdown",
   "metadata": {},
   "source": [
    "Alternatively, we could assign a random group as a treatment, and check to see if that we dont have a significance"
   ]
  }
 ],
 "metadata": {
  "bento_stylesheets": {
   "bento/extensions/flow/main.css": true,
   "bento/extensions/kernel_selector/main.css": true,
   "bento/extensions/kernel_ui/main.css": true,
   "bento/extensions/new_kernel/main.css": true,
   "bento/extensions/system_usage/main.css": true,
   "bento/extensions/theme/main.css": true
  },
  "disseminate_notebook_id": {
   "notebook_id": "1563561567140344"
  },
  "disseminate_notebook_info": {
   "data_retention_policy": "default",
   "description": "An example notebook in python for the Diff in Diff methodology",
   "hide_code": false,
   "no_uii": true,
   "notebook_number": "190148",
   "others_can_edit": false,
   "revision_id": 679332882878229,
   "tags": "python, Tutorial, Diff in Diff",
   "title": "Diff_Diff_example"
  },
  "kernelspec": {
   "display_name": "Python 3",
   "language": "python",
   "name": "python3"
  },
  "language_info": {
   "codemirror_mode": {
    "name": "ipython",
    "version": 3
   },
   "file_extension": ".py",
   "mimetype": "text/x-python",
   "name": "python",
   "nbconvert_exporter": "python",
   "pygments_lexer": "ipython3",
   "version": "3.9.12"
  }
 },
 "nbformat": 4,
 "nbformat_minor": 2
}
